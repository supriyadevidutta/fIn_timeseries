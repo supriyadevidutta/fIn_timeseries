{
 "cells": [
  {
   "cell_type": "code",
   "execution_count": null,
   "metadata": {},
   "outputs": [],
   "source": [
    "import pandas as pd\n",
    "import numpy as np\n",
    "import seaborn as sns\n",
    "from matplotlib import pyplot as plt\n",
    "\n",
    "import chart_studio.plotly as py\n",
    "import plotly.graph_objs as go\n",
    "import plotly.figure_factory as ff\n",
    "from plotly.offline import iplot, init_notebook_mode\n",
    "from collections import OrderedDict"
   ]
  },
  {
   "cell_type": "code",
   "execution_count": null,
   "metadata": {},
   "outputs": [],
   "source": [
    "#List of IT companies HCL , Infosys, TCS, Tach Mahindra, WIPRO\n",
    "\n",
    "it_datasets = ['HCLTECH__EQ__NSE__NSE__MINUTE.csv','INFY__EQ__NSE__NSE__MINUTE.csv','TCS__EQ__NSE__NSE__MINUTE.csv', 'TECHM__EQ__NSE__NSE__MINUTE.csv','WIPRO__EQ__NSE__NSE__MINUTE.csv',\"NIFTY_50__EQ__INDICES__NSE__MINUTE.csv\"]"
   ]
  },
  {
   "cell_type": "code",
   "execution_count": null,
   "metadata": {},
   "outputs": [],
   "source": [
    "# Function to change the time-freq of the data into an hour-wise, day-wise, month-wise etc data \n",
    "def change_df(df, freq='1d'):\n",
    "    data = df.set_index(pd.DatetimeIndex(df['timestamp']))\n",
    "    data = data.resample(freq).agg(\n",
    "        OrderedDict([\n",
    "            ('open', 'first'),\n",
    "            ('high', 'max'),\n",
    "            ('low', 'min'),\n",
    "            ('close', 'last'),\n",
    "            ('volume', 'sum'),\n",
    "        ])\n",
    "    )\n",
    "    return data"
   ]
  },
  {
   "cell_type": "code",
   "execution_count": null,
   "metadata": {},
   "outputs": [],
   "source": [
    "#function that Plots the candlestick representation of data for passed frequency \n",
    "def plot_candlestick(df,freq='1d'):\n",
    "    new_data = change_df(df,freq)\n",
    "    fig = go.Figure(data=[go.Candlestick(x=new_data.index,\n",
    "                    open=new_data['open'],\n",
    "                    high=new_data['high'],\n",
    "                    low=new_data['low'],\n",
    "                    close=new_data['close'])])\n",
    "    fig.show()"
   ]
  },
  {
   "cell_type": "code",
   "execution_count": null,
   "metadata": {},
   "outputs": [],
   "source": [
    "\n",
    "def plot_candlestick(df,freq='1d'):\n",
    "    new_data = change_df(df,freq)\n",
    "    fig = go.Figure(data=[go.Candlestick(x=new_data.index,\n",
    "                    open=new_data['open'],\n",
    "                    high=new_data['high'],\n",
    "                    low=new_data['low'],\n",
    "                    close=new_data['close'])])\n",
    "    fig.show()"
   ]
  },
  {
   "cell_type": "code",
   "execution_count": null,
   "metadata": {},
   "outputs": [],
   "source": [
    "# Plot candlesticks for a given dataframe,for a day, week, month, and quarter time-frequencies\n",
    "def plot_all_candlesticks(df):\n",
    "    time_periods=['','1H','1D','1W','1M','1Q']\n",
    "    for i in range(len(time_periods)):\n",
    "        print(\"Time period: \",time_periods[i])\n",
    "        plot_candlestick(df,time_periods[i])"
   ]
  },
  {
   "cell_type": "code",
   "execution_count": null,
   "metadata": {},
   "outputs": [],
   "source": [
    "# Minutes candle sticks for less datasets\n",
    "def plot_all_candlesticks_minutes(df):\n",
    "    time_periods=['1T','5T','10T','15T','30T']\n",
    "    for i in range(len(time_periods)):\n",
    "        print(\"Time period: \",time_periods[i])\n",
    "        plot_candlestick(df.head(5000),time_periods[i])"
   ]
  },
  {
   "cell_type": "code",
   "execution_count": null,
   "metadata": {},
   "outputs": [],
   "source": [
    "# HCL Candle sticks for minutes\n",
    "plot_all_candlesticks_minutes(pd.read_csv(it_datasets[0]))"
   ]
  },
  {
   "cell_type": "code",
   "execution_count": null,
   "metadata": {},
   "outputs": [],
   "source": [
    "# Infosys Candle sticks for minutes\n",
    "plot_all_candlesticks_minutes(pd.read_csv(it_datasets[1]))"
   ]
  },
  {
   "cell_type": "code",
   "execution_count": null,
   "metadata": {},
   "outputs": [],
   "source": [
    "# TCS Candle sticks for minutes\n",
    "plot_all_candlesticks_minutes(pd.read_csv(it_datasets[2]))"
   ]
  },
  {
   "cell_type": "code",
   "execution_count": null,
   "metadata": {},
   "outputs": [],
   "source": [
    "# Techmahindra Candle sticks for minutes\n",
    "plot_all_candlesticks_minutes(pd.read_csv(it_datasets[3]))"
   ]
  },
  {
   "cell_type": "code",
   "execution_count": null,
   "metadata": {},
   "outputs": [],
   "source": [
    "# Wipro Candle sticks for minutes\n",
    "plot_all_candlesticks_minutes(pd.read_csv(it_datasets[4]))"
   ]
  },
  {
   "cell_type": "code",
   "execution_count": null,
   "metadata": {},
   "outputs": [],
   "source": [
    "# HCL Candle sticks\n",
    "plot_all_candlesticks(pd.read_csv(it_datasets[0]))"
   ]
  },
  {
   "cell_type": "code",
   "execution_count": null,
   "metadata": {},
   "outputs": [],
   "source": [
    "# Infosys dataset\n",
    "plot_all_candlesticks(pd.read_csv(it_datasets[1]))"
   ]
  },
  {
   "cell_type": "code",
   "execution_count": null,
   "metadata": {},
   "outputs": [],
   "source": [
    "# TCS dataset\n",
    "plot_all_candlesticks(pd.read_csv(it_datasets[2]))"
   ]
  },
  {
   "cell_type": "code",
   "execution_count": null,
   "metadata": {},
   "outputs": [],
   "source": [
    "# Tech Mahindra dataset\n",
    "plot_all_candlesticks(pd.read_csv(it_datasets[3]))"
   ]
  },
  {
   "cell_type": "code",
   "execution_count": null,
   "metadata": {},
   "outputs": [],
   "source": [
    "# Wipro dataset\n",
    "plot_all_candlesticks(pd.read_csv(it_datasets[4]))"
   ]
  },
  {
   "cell_type": "code",
   "execution_count": null,
   "metadata": {},
   "outputs": [],
   "source": [
    "change_df(pd.read_csv(it_datasets[0]))['close'].rename(columns={'close':'HCL'})"
   ]
  },
  {
   "cell_type": "code",
   "execution_count": null,
   "metadata": {},
   "outputs": [],
   "source": [
    "#create df with closing price of all companies for plotting comparison of trend \n",
    "concat_df = pd.concat([change_df(pd.read_csv(it_datasets[0]))['close'], change_df(pd.read_csv(it_datasets[1]))['close'], change_df(pd.read_csv(it_datasets[2]))['close'], change_df(pd.read_csv(it_datasets[3]))['close'],change_df(pd.read_csv(it_datasets[4]))['close']], axis=1)"
   ]
  },
  {
   "cell_type": "code",
   "execution_count": null,
   "metadata": {},
   "outputs": [],
   "source": [
    "#List of IT companies HCL , Infosys, TCS, Tach Mahindra, WIPRO\n",
    "concat_df.columns = ['HCL','Infosys','TCS','TechMahindra','Wipro']"
   ]
  },
  {
   "cell_type": "code",
   "execution_count": null,
   "metadata": {},
   "outputs": [],
   "source": [
    "concat_df.head()"
   ]
  },
  {
   "cell_type": "code",
   "execution_count": null,
   "metadata": {},
   "outputs": [],
   "source": [
    "concat_df.plot(figsize=(10,10))"
   ]
  },
  {
   "cell_type": "code",
   "execution_count": null,
   "metadata": {},
   "outputs": [],
   "source": [
    "for i, col in enumerate(concat_df.columns):\n",
    "    plt.figure()\n",
    "    concat_df[col].plot()\n",
    "    plt.title('Closing Prices')\n",
    "    plt.xticks(rotation=70)\n",
    "    plt.legend(col)"
   ]
  },
  {
   "cell_type": "code",
   "execution_count": null,
   "metadata": {},
   "outputs": [],
   "source": [
    "# volume data for 5 different ITs\n",
    "concat_volume = pd.concat([change_df(pd.read_csv(it_datasets[0]))['volume'], change_df(pd.read_csv(it_datasets[1]))['volume'], change_df(pd.read_csv(it_datasets[2]))['volume'], change_df(pd.read_csv(it_datasets[3]))['volume'],change_df(pd.read_csv(it_datasets[4]))['volume']], axis=1)"
   ]
  },
  {
   "cell_type": "code",
   "execution_count": null,
   "metadata": {},
   "outputs": [],
   "source": [
    "#List of IT companies HCL , Infosys, TCS, Tach Mahindra, WIPRO\n",
    "concat_volume.columns = ['HCL','Infosys','TCS','TechMahindra','Wipro']"
   ]
  },
  {
   "cell_type": "code",
   "execution_count": null,
   "metadata": {},
   "outputs": [],
   "source": [
    "concat_volume.dropna(inplace=True)\n",
    "concat_volume.head()"
   ]
  },
  {
   "cell_type": "code",
   "execution_count": null,
   "metadata": {},
   "outputs": [],
   "source": [
    "concat_df.plot(figsize=(10,10))"
   ]
  },
  {
   "cell_type": "code",
   "execution_count": null,
   "metadata": {},
   "outputs": [],
   "source": [
    "concat_df.dropna(inplace=True)\n",
    "concat_df.head()"
   ]
  },
  {
   "cell_type": "code",
   "execution_count": null,
   "metadata": {},
   "outputs": [],
   "source": [
    "concat_df[concat_df.HCL == concat_df.HCL.max()]"
   ]
  },
  {
   "cell_type": "code",
   "execution_count": null,
   "metadata": {},
   "outputs": [],
   "source": [
    "concat_df[concat_df.HCL == concat_df.HCL.min()]"
   ]
  },
  {
   "cell_type": "code",
   "execution_count": null,
   "metadata": {},
   "outputs": [],
   "source": [
    "#nifty50 dataset is read \n",
    "nifty_50 =pd.read_csv(\"NIFTY_50__EQ__INDICES__NSE__MINUTE.csv\" ,parse_dates =[\"timestamp\"], index_col =\"timestamp\")"
   ]
  },
  {
   "cell_type": "code",
   "execution_count": null,
   "metadata": {},
   "outputs": [],
   "source": [
    "nifty_50.head()"
   ]
  },
  {
   "cell_type": "code",
   "execution_count": null,
   "metadata": {},
   "outputs": [],
   "source": [
    "nifty_50.isnull().sum()"
   ]
  },
  {
   "cell_type": "code",
   "execution_count": null,
   "metadata": {},
   "outputs": [],
   "source": [
    "nifty_50.dropna(inplace=True)"
   ]
  },
  {
   "cell_type": "code",
   "execution_count": null,
   "metadata": {},
   "outputs": [],
   "source": [
    "nifty_50.isnull().sum()"
   ]
  },
  {
   "cell_type": "code",
   "execution_count": null,
   "metadata": {},
   "outputs": [],
   "source": [
    "#observing data distribution of nifty 50 dataset \n",
    "nifty_50.describe()"
   ]
  },
  {
   "cell_type": "code",
   "execution_count": null,
   "metadata": {},
   "outputs": [],
   "source": [
    "nifty_50.max()"
   ]
  },
  {
   "cell_type": "code",
   "execution_count": null,
   "metadata": {},
   "outputs": [],
   "source": [
    "concat_df_nifty_50 = pd.concat([change_df(pd.read_csv(it_datasets[0]))['close'], change_df(pd.read_csv(it_datasets[1]))['close'], change_df(pd.read_csv(it_datasets[2]))['close'], change_df(pd.read_csv(it_datasets[3]))['close'],change_df(pd.read_csv(it_datasets[4]))['close'],change_df(pd.read_csv(it_datasets[5]))['close']], axis=1)"
   ]
  },
  {
   "cell_type": "code",
   "execution_count": null,
   "metadata": {},
   "outputs": [],
   "source": [
    "concat_df_nifty_50.head()\n",
    "#List of IT companies HCL , Infosys, TCS, Tach Mahindra, WIPRO and Nifty_50\n",
    "concat_df_nifty_50.columns = ['HCL','Infosys','TCS','TechMahindra','Wipro',\"Nifty_50\"]"
   ]
  },
  {
   "cell_type": "code",
   "execution_count": null,
   "metadata": {},
   "outputs": [],
   "source": [
    "#comparing nifty 50 trend with that of other stocks \n",
    "concat_df_nifty_50.plot(figsize=(10,10))"
   ]
  },
  {
   "cell_type": "code",
   "execution_count": null,
   "metadata": {},
   "outputs": [],
   "source": [
    "combo = pd.DataFrame()"
   ]
  },
  {
   "cell_type": "code",
   "execution_count": null,
   "metadata": {},
   "outputs": [],
   "source": [
    "combo['nift50'] = concat_df_nifty_50.Nifty_50\n",
    "combo['HCL'] = concat_df_nifty_50.HCL\n",
    "combo['Infosys'] = concat_df_nifty_50.Infosys\n",
    "combo['TCS'] = concat_df_nifty_50.TCS\n",
    "combo['TechMahindra'] = concat_df_nifty_50.TechMahindra\n",
    "combo['Wipro'] = concat_df_nifty_50.Wipro\n",
    "\n",
    "\n",
    "#concat_df_nifty_50.columns = ['HCL','Infosys','TCS','TechMahindra','Wipro',\"Nifty_50\"]"
   ]
  },
  {
   "cell_type": "code",
   "execution_count": null,
   "metadata": {},
   "outputs": [],
   "source": [
    "combo.dropna(inplace=True)"
   ]
  },
  {
   "cell_type": "code",
   "execution_count": null,
   "metadata": {},
   "outputs": [],
   "source": [
    "import seaborn as sns"
   ]
  },
  {
   "cell_type": "code",
   "execution_count": null,
   "metadata": {},
   "outputs": [],
   "source": [
    "sns.distplot(combo['nift50'], kde_kws={'label':'nift50'});\n",
    "sns.distplot(combo['HCL'], kde_kws={'label':'HCL'});\n",
    "sns.distplot(combo['Infosys'], kde_kws={'label':'Infosys'});\n",
    "sns.distplot(combo['TCS'], kde_kws={'label':'TCS'});\n",
    "sns.distplot(combo['TechMahindra'], kde_kws={'label':'TechMahindra'});\n",
    "sns.distplot(combo['Wipro'], kde_kws={'label':'Wipro'});\n"
   ]
  },
  {
   "cell_type": "code",
   "execution_count": null,
   "metadata": {},
   "outputs": [],
   "source": [
    "sns.pairplot(combo)"
   ]
  },
  {
   "cell_type": "code",
   "execution_count": null,
   "metadata": {},
   "outputs": [],
   "source": [
    "combo.corr()"
   ]
  },
  {
   "cell_type": "code",
   "execution_count": null,
   "metadata": {},
   "outputs": [],
   "source": [
    "sns.heatmap(combo.corr(),annot=True)"
   ]
  },
  {
   "cell_type": "code",
   "execution_count": null,
   "metadata": {},
   "outputs": [],
   "source": [
    "sns.clustermap(combo.corr(),annot=True)"
   ]
  },
  {
   "cell_type": "code",
   "execution_count": null,
   "metadata": {},
   "outputs": [],
   "source": []
  }
 ],
 "metadata": {
  "kernelspec": {
   "display_name": "Python 3",
   "language": "python",
   "name": "python3"
  },
  "language_info": {
   "codemirror_mode": {
    "name": "ipython",
    "version": 3
   },
   "file_extension": ".py",
   "mimetype": "text/x-python",
   "name": "python",
   "nbconvert_exporter": "python",
   "pygments_lexer": "ipython3",
   "version": "3.6.5"
  }
 },
 "nbformat": 4,
 "nbformat_minor": 2
}
