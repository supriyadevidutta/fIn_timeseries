{
 "cells": [
  {
   "cell_type": "code",
   "execution_count": 1,
   "metadata": {},
   "outputs": [],
   "source": [
    "import matplotlib.pyplot as plt\n",
    "import mplfinance\n",
    "import numpy as np"
   ]
  },
  {
   "cell_type": "code",
   "execution_count": 2,
   "metadata": {},
   "outputs": [],
   "source": [
    "import pandas as pd\n",
    "import numpy as np\n",
    "import seaborn as sns\n",
    "from matplotlib import pyplot as plt\n",
    "\n",
    "import datetime\n",
    "import yfinance as yf\n",
    "import time\n",
    "import stockstats\n",
    "import chart_studio.plotly as py\n",
    "import plotly.graph_objs as go\n",
    "import plotly.figure_factory as ff\n",
    "from plotly.offline import iplot, init_notebook_mode\n",
    "from collections import OrderedDict\n",
    "import sklearn\n",
    "from sklearn.model_selection import train_test_split\n",
    "from sklearn.svm import SVC\n",
    "from sklearn.metrics import classification_report, confusion_matrix"
   ]
  },
  {
   "cell_type": "code",
   "execution_count": 3,
   "metadata": {},
   "outputs": [],
   "source": [
    "#grouping by frequency \n",
    "def FrameChanging(df, x):\n",
    "    t = df.groupby(pd.Grouper(freq=x)).agg({\"open\": \"first\", \n",
    "                                             \"close\": \"last\", \n",
    "                                             \"low\": \"min\", \n",
    "                                             \"high\": \"max\",\n",
    "                                             \"volume\": \"sum\"})\n",
    "    return t"
   ]
  },
  {
   "cell_type": "code",
   "execution_count": 4,
   "metadata": {},
   "outputs": [],
   "source": [
    "#adding column dateindex of data type datetime to set as index of data frame\n",
    "def DatePre(df):\n",
    "    df['DateIndex'] = pd.to_datetime(df['timestamp'])\n",
    "    df = df.set_index('DateIndex')\n",
    "    df = df.drop(['timestamp'], axis=1)\n",
    "    return df"
   ]
  },
  {
   "cell_type": "code",
   "execution_count": 5,
   "metadata": {},
   "outputs": [],
   "source": [
    "#reading sample dataset for use case \n",
    "df = pd.read_csv(\"../Data/ADANIPOWER__EQ__NSE__NSE__MINUTE.csv\")"
   ]
  },
  {
   "cell_type": "code",
   "execution_count": 6,
   "metadata": {},
   "outputs": [
    {
     "data": {
      "text/html": [
       "<div>\n",
       "<style scoped>\n",
       "    .dataframe tbody tr th:only-of-type {\n",
       "        vertical-align: middle;\n",
       "    }\n",
       "\n",
       "    .dataframe tbody tr th {\n",
       "        vertical-align: top;\n",
       "    }\n",
       "\n",
       "    .dataframe thead th {\n",
       "        text-align: right;\n",
       "    }\n",
       "</style>\n",
       "<table border=\"1\" class=\"dataframe\">\n",
       "  <thead>\n",
       "    <tr style=\"text-align: right;\">\n",
       "      <th></th>\n",
       "      <th>timestamp</th>\n",
       "      <th>open</th>\n",
       "      <th>high</th>\n",
       "      <th>low</th>\n",
       "      <th>close</th>\n",
       "      <th>volume</th>\n",
       "    </tr>\n",
       "  </thead>\n",
       "  <tbody>\n",
       "    <tr>\n",
       "      <th>0</th>\n",
       "      <td>2017-01-02 09:15:00+05:30</td>\n",
       "      <td>30.10</td>\n",
       "      <td>30.20</td>\n",
       "      <td>30.10</td>\n",
       "      <td>30.15</td>\n",
       "      <td>39761.0</td>\n",
       "    </tr>\n",
       "    <tr>\n",
       "      <th>1</th>\n",
       "      <td>2017-01-02 09:16:00+05:30</td>\n",
       "      <td>30.15</td>\n",
       "      <td>30.20</td>\n",
       "      <td>30.10</td>\n",
       "      <td>30.20</td>\n",
       "      <td>11081.0</td>\n",
       "    </tr>\n",
       "    <tr>\n",
       "      <th>2</th>\n",
       "      <td>2017-01-02 09:17:00+05:30</td>\n",
       "      <td>30.20</td>\n",
       "      <td>30.20</td>\n",
       "      <td>30.10</td>\n",
       "      <td>30.10</td>\n",
       "      <td>9706.0</td>\n",
       "    </tr>\n",
       "    <tr>\n",
       "      <th>3</th>\n",
       "      <td>2017-01-02 09:18:00+05:30</td>\n",
       "      <td>30.10</td>\n",
       "      <td>30.15</td>\n",
       "      <td>30.05</td>\n",
       "      <td>30.05</td>\n",
       "      <td>74384.0</td>\n",
       "    </tr>\n",
       "    <tr>\n",
       "      <th>4</th>\n",
       "      <td>2017-01-02 09:19:00+05:30</td>\n",
       "      <td>30.05</td>\n",
       "      <td>30.10</td>\n",
       "      <td>30.00</td>\n",
       "      <td>30.05</td>\n",
       "      <td>21735.0</td>\n",
       "    </tr>\n",
       "  </tbody>\n",
       "</table>\n",
       "</div>"
      ],
      "text/plain": [
       "                   timestamp   open   high    low  close   volume\n",
       "0  2017-01-02 09:15:00+05:30  30.10  30.20  30.10  30.15  39761.0\n",
       "1  2017-01-02 09:16:00+05:30  30.15  30.20  30.10  30.20  11081.0\n",
       "2  2017-01-02 09:17:00+05:30  30.20  30.20  30.10  30.10   9706.0\n",
       "3  2017-01-02 09:18:00+05:30  30.10  30.15  30.05  30.05  74384.0\n",
       "4  2017-01-02 09:19:00+05:30  30.05  30.10  30.00  30.05  21735.0"
      ]
     },
     "execution_count": 6,
     "metadata": {},
     "output_type": "execute_result"
    }
   ],
   "source": [
    "df.head()"
   ]
  },
  {
   "cell_type": "code",
   "execution_count": 7,
   "metadata": {},
   "outputs": [],
   "source": [
    "#converting timestamp to datetime format \n",
    "df['DateIndex'] = pd.to_datetime(df['timestamp'])\n",
    "df = df.set_index('DateIndex')\n",
    "df = df.drop(['timestamp'], axis=1)"
   ]
  },
  {
   "cell_type": "code",
   "execution_count": 8,
   "metadata": {},
   "outputs": [
    {
     "data": {
      "text/plain": [
       "(321361, 5)"
      ]
     },
     "execution_count": 8,
     "metadata": {},
     "output_type": "execute_result"
    }
   ],
   "source": [
    "df.shape"
   ]
  },
  {
   "cell_type": "code",
   "execution_count": 9,
   "metadata": {},
   "outputs": [],
   "source": [
    "# grouping the dataset for the interval of 30 min\n",
    "df1 = FrameChanging(df, '30Min')"
   ]
  },
  {
   "cell_type": "code",
   "execution_count": 10,
   "metadata": {},
   "outputs": [
    {
     "data": {
      "text/plain": [
       "(61021, 5)"
      ]
     },
     "execution_count": 10,
     "metadata": {},
     "output_type": "execute_result"
    }
   ],
   "source": [
    "df1.shape"
   ]
  },
  {
   "cell_type": "code",
   "execution_count": 11,
   "metadata": {},
   "outputs": [
    {
     "data": {
      "text/html": [
       "<div>\n",
       "<style scoped>\n",
       "    .dataframe tbody tr th:only-of-type {\n",
       "        vertical-align: middle;\n",
       "    }\n",
       "\n",
       "    .dataframe tbody tr th {\n",
       "        vertical-align: top;\n",
       "    }\n",
       "\n",
       "    .dataframe thead th {\n",
       "        text-align: right;\n",
       "    }\n",
       "</style>\n",
       "<table border=\"1\" class=\"dataframe\">\n",
       "  <thead>\n",
       "    <tr style=\"text-align: right;\">\n",
       "      <th></th>\n",
       "      <th>open</th>\n",
       "      <th>close</th>\n",
       "      <th>low</th>\n",
       "      <th>high</th>\n",
       "      <th>volume</th>\n",
       "    </tr>\n",
       "    <tr>\n",
       "      <th>DateIndex</th>\n",
       "      <th></th>\n",
       "      <th></th>\n",
       "      <th></th>\n",
       "      <th></th>\n",
       "      <th></th>\n",
       "    </tr>\n",
       "  </thead>\n",
       "  <tbody>\n",
       "    <tr>\n",
       "      <th>2017-01-02 09:00:00+05:30</th>\n",
       "      <td>30.10</td>\n",
       "      <td>29.95</td>\n",
       "      <td>29.95</td>\n",
       "      <td>30.20</td>\n",
       "      <td>372228.0</td>\n",
       "    </tr>\n",
       "    <tr>\n",
       "      <th>2017-01-02 09:30:00+05:30</th>\n",
       "      <td>30.00</td>\n",
       "      <td>29.95</td>\n",
       "      <td>29.90</td>\n",
       "      <td>30.10</td>\n",
       "      <td>713049.0</td>\n",
       "    </tr>\n",
       "    <tr>\n",
       "      <th>2017-01-02 10:00:00+05:30</th>\n",
       "      <td>29.95</td>\n",
       "      <td>29.70</td>\n",
       "      <td>29.65</td>\n",
       "      <td>29.95</td>\n",
       "      <td>677971.0</td>\n",
       "    </tr>\n",
       "    <tr>\n",
       "      <th>2017-01-02 10:30:00+05:30</th>\n",
       "      <td>29.70</td>\n",
       "      <td>29.45</td>\n",
       "      <td>29.40</td>\n",
       "      <td>29.70</td>\n",
       "      <td>707812.0</td>\n",
       "    </tr>\n",
       "    <tr>\n",
       "      <th>2017-01-02 11:00:00+05:30</th>\n",
       "      <td>29.45</td>\n",
       "      <td>29.40</td>\n",
       "      <td>29.35</td>\n",
       "      <td>29.65</td>\n",
       "      <td>1473280.0</td>\n",
       "    </tr>\n",
       "  </tbody>\n",
       "</table>\n",
       "</div>"
      ],
      "text/plain": [
       "                            open  close    low   high     volume\n",
       "DateIndex                                                       \n",
       "2017-01-02 09:00:00+05:30  30.10  29.95  29.95  30.20   372228.0\n",
       "2017-01-02 09:30:00+05:30  30.00  29.95  29.90  30.10   713049.0\n",
       "2017-01-02 10:00:00+05:30  29.95  29.70  29.65  29.95   677971.0\n",
       "2017-01-02 10:30:00+05:30  29.70  29.45  29.40  29.70   707812.0\n",
       "2017-01-02 11:00:00+05:30  29.45  29.40  29.35  29.65  1473280.0"
      ]
     },
     "execution_count": 11,
     "metadata": {},
     "output_type": "execute_result"
    }
   ],
   "source": [
    "df1.head()"
   ]
  },
  {
   "cell_type": "code",
   "execution_count": 12,
   "metadata": {},
   "outputs": [],
   "source": [
    "#moving average calculated over 100 200 and 50 days\n",
    "df1['MA100'] = df.rolling(window=100,min_periods=1 ).mean()['close']\n",
    "df1['MA200'] = df.rolling(window=200,min_periods=1 ).mean()['close']\n",
    "df1['MA50'] = df.rolling(window=50,min_periods=1 ).mean()['close']"
   ]
  },
  {
   "cell_type": "code",
   "execution_count": 13,
   "metadata": {},
   "outputs": [
    {
     "data": {
      "text/plain": [
       "(61021, 8)"
      ]
     },
     "execution_count": 13,
     "metadata": {},
     "output_type": "execute_result"
    }
   ],
   "source": [
    "df1.shape"
   ]
  },
  {
   "cell_type": "code",
   "execution_count": 14,
   "metadata": {},
   "outputs": [
    {
     "data": {
      "text/html": [
       "<div>\n",
       "<style scoped>\n",
       "    .dataframe tbody tr th:only-of-type {\n",
       "        vertical-align: middle;\n",
       "    }\n",
       "\n",
       "    .dataframe tbody tr th {\n",
       "        vertical-align: top;\n",
       "    }\n",
       "\n",
       "    .dataframe thead th {\n",
       "        text-align: right;\n",
       "    }\n",
       "</style>\n",
       "<table border=\"1\" class=\"dataframe\">\n",
       "  <thead>\n",
       "    <tr style=\"text-align: right;\">\n",
       "      <th></th>\n",
       "      <th>open</th>\n",
       "      <th>close</th>\n",
       "      <th>low</th>\n",
       "      <th>high</th>\n",
       "      <th>volume</th>\n",
       "      <th>MA100</th>\n",
       "      <th>MA200</th>\n",
       "      <th>MA50</th>\n",
       "    </tr>\n",
       "  </thead>\n",
       "  <tbody>\n",
       "    <tr>\n",
       "      <th>count</th>\n",
       "      <td>11140.000000</td>\n",
       "      <td>11140.000000</td>\n",
       "      <td>11140.000000</td>\n",
       "      <td>11140.000000</td>\n",
       "      <td>6.102100e+04</td>\n",
       "      <td>10285.000000</td>\n",
       "      <td>10285.000000</td>\n",
       "      <td>10285.000000</td>\n",
       "    </tr>\n",
       "    <tr>\n",
       "      <th>mean</th>\n",
       "      <td>40.310983</td>\n",
       "      <td>40.306113</td>\n",
       "      <td>40.068855</td>\n",
       "      <td>40.550058</td>\n",
       "      <td>2.241536e+05</td>\n",
       "      <td>40.301345</td>\n",
       "      <td>40.300124</td>\n",
       "      <td>40.301201</td>\n",
       "    </tr>\n",
       "    <tr>\n",
       "      <th>std</th>\n",
       "      <td>13.439303</td>\n",
       "      <td>13.436619</td>\n",
       "      <td>13.385378</td>\n",
       "      <td>13.498862</td>\n",
       "      <td>8.875962e+05</td>\n",
       "      <td>13.435373</td>\n",
       "      <td>13.431913</td>\n",
       "      <td>13.437123</td>\n",
       "    </tr>\n",
       "    <tr>\n",
       "      <th>min</th>\n",
       "      <td>15.250000</td>\n",
       "      <td>15.250000</td>\n",
       "      <td>15.150000</td>\n",
       "      <td>15.450000</td>\n",
       "      <td>0.000000e+00</td>\n",
       "      <td>15.369000</td>\n",
       "      <td>15.406500</td>\n",
       "      <td>15.349000</td>\n",
       "    </tr>\n",
       "    <tr>\n",
       "      <th>25%</th>\n",
       "      <td>30.300000</td>\n",
       "      <td>30.300000</td>\n",
       "      <td>30.137500</td>\n",
       "      <td>30.450000</td>\n",
       "      <td>0.000000e+00</td>\n",
       "      <td>30.269500</td>\n",
       "      <td>30.274250</td>\n",
       "      <td>30.276000</td>\n",
       "    </tr>\n",
       "    <tr>\n",
       "      <th>50%</th>\n",
       "      <td>36.350000</td>\n",
       "      <td>36.350000</td>\n",
       "      <td>36.100000</td>\n",
       "      <td>36.600000</td>\n",
       "      <td>0.000000e+00</td>\n",
       "      <td>36.354000</td>\n",
       "      <td>36.389750</td>\n",
       "      <td>36.366000</td>\n",
       "    </tr>\n",
       "    <tr>\n",
       "      <th>75%</th>\n",
       "      <td>50.512500</td>\n",
       "      <td>50.500000</td>\n",
       "      <td>50.300000</td>\n",
       "      <td>50.762500</td>\n",
       "      <td>0.000000e+00</td>\n",
       "      <td>50.513000</td>\n",
       "      <td>50.501250</td>\n",
       "      <td>50.514000</td>\n",
       "    </tr>\n",
       "    <tr>\n",
       "      <th>max</th>\n",
       "      <td>72.950000</td>\n",
       "      <td>72.950000</td>\n",
       "      <td>72.850000</td>\n",
       "      <td>73.800000</td>\n",
       "      <td>2.900877e+07</td>\n",
       "      <td>72.974000</td>\n",
       "      <td>72.654000</td>\n",
       "      <td>73.102000</td>\n",
       "    </tr>\n",
       "  </tbody>\n",
       "</table>\n",
       "</div>"
      ],
      "text/plain": [
       "               open         close           low          high        volume  \\\n",
       "count  11140.000000  11140.000000  11140.000000  11140.000000  6.102100e+04   \n",
       "mean      40.310983     40.306113     40.068855     40.550058  2.241536e+05   \n",
       "std       13.439303     13.436619     13.385378     13.498862  8.875962e+05   \n",
       "min       15.250000     15.250000     15.150000     15.450000  0.000000e+00   \n",
       "25%       30.300000     30.300000     30.137500     30.450000  0.000000e+00   \n",
       "50%       36.350000     36.350000     36.100000     36.600000  0.000000e+00   \n",
       "75%       50.512500     50.500000     50.300000     50.762500  0.000000e+00   \n",
       "max       72.950000     72.950000     72.850000     73.800000  2.900877e+07   \n",
       "\n",
       "              MA100         MA200          MA50  \n",
       "count  10285.000000  10285.000000  10285.000000  \n",
       "mean      40.301345     40.300124     40.301201  \n",
       "std       13.435373     13.431913     13.437123  \n",
       "min       15.369000     15.406500     15.349000  \n",
       "25%       30.269500     30.274250     30.276000  \n",
       "50%       36.354000     36.389750     36.366000  \n",
       "75%       50.513000     50.501250     50.514000  \n",
       "max       72.974000     72.654000     73.102000  "
      ]
     },
     "execution_count": 14,
     "metadata": {},
     "output_type": "execute_result"
    }
   ],
   "source": [
    "df1.describe()"
   ]
  },
  {
   "cell_type": "code",
   "execution_count": 15,
   "metadata": {},
   "outputs": [],
   "source": [
    "df1 = df1.dropna()"
   ]
  },
  {
   "cell_type": "code",
   "execution_count": 16,
   "metadata": {},
   "outputs": [],
   "source": [
    "C_DownTrend = True\n",
    "C_UpTrend = True"
   ]
  },
  {
   "cell_type": "code",
   "execution_count": 17,
   "metadata": {},
   "outputs": [],
   "source": [
    "#marking C_DownTrend and C_UpTrend as true or false according to respective conditions and patterns\n",
    "df1['C_DownTrend'] = np.where((  (df1['close'] < df1['MA50']) & (df1['MA50'] < df1['MA200']) ), True, False)\n",
    "df1['C_UpTrend'] = np.where(( (df1['close'] > df1['MA50'])& (df1['MA50'] > df1['MA200']) ), True, False)"
   ]
  },
  {
   "cell_type": "code",
   "execution_count": 18,
   "metadata": {},
   "outputs": [],
   "source": [
    "C_Len = 14 #ema depth for bodyAvg\n",
    "C_ShadowPercent = 5.0 # size of shadows\n",
    "C_ShadowEqualsPercent = 100.0\n",
    "C_DojiBodyPercent = 5.0\n",
    "C_Factor = 2.0 # shows the number of times the shadow dominates the candlestick body"
   ]
  },
  {
   "cell_type": "code",
   "execution_count": 19,
   "metadata": {},
   "outputs": [],
   "source": [
    "#finding body high and low and body length from closing and opening price of the day\n",
    "df1['C_BodyHi'] = df1[['close','open']].max(axis=1)\n",
    "df1['C_BodyLo'] = df1[['close','open']].min(axis=1)\n",
    "df1['C_Body'] = df1['C_BodyHi'] - df1['C_BodyLo']"
   ]
  },
  {
   "cell_type": "code",
   "execution_count": 22,
   "metadata": {},
   "outputs": [],
   "source": [
    "df1['C_BodyAvg'] = pd.Series.ewm(df1['C_Body'], span=C_Len).mean()"
   ]
  },
  {
   "cell_type": "code",
   "execution_count": 24,
   "metadata": {},
   "outputs": [],
   "source": [
    "#setting C_SmallBody as 1 if body average is > the body length and 0 if body average is <= to body length\n",
    "df1.loc[df1['C_BodyAvg']> df1['C_Body']  , 'C_SmallBody'] = '1'\n",
    "df1.loc[df1['C_BodyAvg']<= df1['C_Body']  , 'C_SmallBody'] = '0'\n",
    "\n",
    "#setting C_LongBody as 1 if body average is < the body length and 0 if body average is >= to body length\n",
    "df1.loc[df1['C_BodyAvg']< df1['C_Body']  , 'C_LongBody'] = '1'\n",
    "df1.loc[df1['C_BodyAvg']>= df1['C_Body']  , 'C_LongBody'] = '0'"
   ]
  },
  {
   "cell_type": "code",
   "execution_count": 25,
   "metadata": {},
   "outputs": [],
   "source": [
    "#calculating upshadow as high - body high and down shadow as body low - low\n",
    "df1['C_UpShadow'] = df1['high'] - df1['C_BodyHi']\n",
    "df1['C_DnShadow'] = df1['C_BodyLo'] - df1['low']"
   ]
  },
  {
   "cell_type": "code",
   "execution_count": 26,
   "metadata": {},
   "outputs": [],
   "source": []
  },
  {
   "cell_type": "code",
   "execution_count": 27,
   "metadata": {},
   "outputs": [],
   "source": [
    "#setting C_HasUpShadow as 0 or 1 indicating presence of up shadow\n",
    "df1['C_HasUpShadow'] = np.where((df1.C_UpShadow  > (C_ShadowPercent / (100*df1.C_Body))  ),\n",
    "                                                     \"1\", \"0\")"
   ]
  },
  {
   "cell_type": "code",
   "execution_count": 28,
   "metadata": {},
   "outputs": [],
   "source": [
    "#setting C_HasDnShadow as 0 or 1 indicating presence of down shadow\n",
    "df1['C_HasDnShadow'] = np.where((df1.C_DnShadow  > (C_ShadowPercent / (100*df1.C_Body))  ),\n",
    "                                                     \"1\", \"0\")"
   ]
  },
  {
   "cell_type": "code",
   "execution_count": 29,
   "metadata": {},
   "outputs": [],
   "source": [
    "#white body reprecents traditional green candlestick and black represents red\n",
    "df1['C_WhiteBody'] = np.where((df1.open  < df1.close ),True, False)\n",
    "df1['C_BlackBody'] = np.where((df1.open  > df1.close ),True, False)"
   ]
  },
  {
   "cell_type": "code",
   "execution_count": 30,
   "metadata": {},
   "outputs": [],
   "source": [
    "df1['C_Range'] = df1['high']-df1['low']"
   ]
  },
  {
   "cell_type": "code",
   "execution_count": 31,
   "metadata": {},
   "outputs": [],
   "source": [
    "df1['C_IsInsideBar'] =  np.where( ((df1.C_BodyHi.shift(1)  < df1.C_BodyHi) & ( df1.C_BodyLo.shift(1) < df1.C_BodyLo ) ),\"1\", \"0\")"
   ]
  },
  {
   "cell_type": "code",
   "execution_count": 32,
   "metadata": {},
   "outputs": [
    {
     "data": {
      "text/plain": [
       "0    8146\n",
       "1    2137\n",
       "Name: C_IsInsideBar, dtype: int64"
      ]
     },
     "execution_count": 32,
     "metadata": {},
     "output_type": "execute_result"
    }
   ],
   "source": [
    "df1['C_IsInsideBar'].value_counts()"
   ]
  },
  {
   "cell_type": "code",
   "execution_count": 33,
   "metadata": {},
   "outputs": [],
   "source": [
    "df1['C_BodyMiddle'] = df1['C_Body'] / (2 + df1['C_BodyLo'])"
   ]
  },
  {
   "cell_type": "code",
   "execution_count": 34,
   "metadata": {},
   "outputs": [],
   "source": [
    "#findng if upshadow is equal to dowm shadow\n",
    "df1['C_ShadowEquals'] = np.where(  ((df1['C_UpShadow'] == df1['C_DnShadow']) | \n",
    "                                 (( abs(df1['C_UpShadow'] - df1['C_DnShadow']) / (df1['C_DnShadow'] * 100) ) )  < \n",
    "                                 C_ShadowEqualsPercent) & (((abs(df1['C_DnShadow'] - df1['C_UpShadow']) / (df1['C_UpShadow'] * 100))\n",
    "                                 < C_ShadowEqualsPercent))  , True, False)"
   ]
  },
  {
   "cell_type": "code",
   "execution_count": 35,
   "metadata": {},
   "outputs": [
    {
     "data": {
      "text/plain": [
       "True     8536\n",
       "False    1747\n",
       "Name: C_ShadowEquals, dtype: int64"
      ]
     },
     "execution_count": 35,
     "metadata": {},
     "output_type": "execute_result"
    }
   ],
   "source": [
    "df1['C_ShadowEquals'].value_counts()"
   ]
  },
  {
   "cell_type": "code",
   "execution_count": 36,
   "metadata": {},
   "outputs": [],
   "source": [
    "#checking if body range is <= 20 percent of body range of candlestick and setting doji body as true or false accordingly\n",
    "df1['C_IsDojiBody'] = np.where(( (df1['C_Range'] > 0)  & (df1['C_Body'] <= (df1['C_Range'] * (C_DojiBodyPercent / 100))) ), True, False)"
   ]
  },
  {
   "cell_type": "code",
   "execution_count": 37,
   "metadata": {},
   "outputs": [
    {
     "data": {
      "text/plain": [
       "False    9017\n",
       "True     1266\n",
       "Name: C_IsDojiBody, dtype: int64"
      ]
     },
     "execution_count": 37,
     "metadata": {},
     "output_type": "execute_result"
    }
   ],
   "source": [
    "df1['C_IsDojiBody'].value_counts()"
   ]
  },
  {
   "cell_type": "code",
   "execution_count": 38,
   "metadata": {},
   "outputs": [],
   "source": [
    "df1['C_Doji'] = df1['C_IsDojiBody'] & df1['C_ShadowEquals']"
   ]
  },
  {
   "cell_type": "code",
   "execution_count": 39,
   "metadata": {},
   "outputs": [],
   "source": [
    "#checking if it is an abandoned baby bearish pattern and marking as 1 if yes and 0 if no\n",
    "df1['C_AbandonedBabyBearish'] = np.where( ( ( df1['C_UpTrend'].shift(2)  & df1['C_WhiteBody'].shift(2) & \n",
    "                                             df1['C_IsDojiBody'].shift(1) &  (df1['high'].shift(2) <df1['low'].shift(1)) &\n",
    "                                             df1['C_BlackBody'] & (df1['low'].shift(1) > df1['high'] )   ) )    , \"1\", \"0\" )"
   ]
  },
  {
   "cell_type": "code",
   "execution_count": 40,
   "metadata": {},
   "outputs": [
    {
     "data": {
      "text/plain": [
       "0    10283\n",
       "Name: C_AbandonedBabyBearish, dtype: int64"
      ]
     },
     "execution_count": 40,
     "metadata": {},
     "output_type": "execute_result"
    }
   ],
   "source": [
    "#counting the number of abandoned baby bearish pattern\n",
    "df1['C_AbandonedBabyBearish'].value_counts()"
   ]
  }
 ],
 "metadata": {
  "kernelspec": {
   "display_name": "Python 3.8.9 64-bit",
   "language": "python",
   "name": "python3"
  },
  "language_info": {
   "codemirror_mode": {
    "name": "ipython",
    "version": 3
   },
   "file_extension": ".py",
   "mimetype": "text/x-python",
   "name": "python",
   "nbconvert_exporter": "python",
   "pygments_lexer": "ipython3",
   "version": "3.8.9"
  },
  "vscode": {
   "interpreter": {
    "hash": "31f2aee4e71d21fbe5cf8b01ff0e069b9275f58929596ceb00d14d90e3e16cd6"
   }
  }
 },
 "nbformat": 4,
 "nbformat_minor": 4
}
