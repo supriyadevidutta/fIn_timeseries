{
 "cells": [
  {
   "cell_type": "code",
   "execution_count": null,
   "metadata": {},
   "outputs": [],
   "source": [
    "import pandas as pd\n",
    "import numpy as np\n",
    "import seaborn as sns\n",
    "from matplotlib import pyplot as plt\n",
    "\n",
    "import chart_studio.plotly as py\n",
    "import plotly.graph_objs as go\n",
    "import plotly.figure_factory as ff\n",
    "from plotly.offline import iplot, init_notebook_mode\n",
    "from collections import OrderedDict"
   ]
  },
  {
   "cell_type": "code",
   "execution_count": null,
   "metadata": {},
   "outputs": [],
   "source": [
    "#List of oil and gas companies BPCL , Gail, IOC, ONGC, Reliance\n",
    "\n",
    "datasets = ['BPCL__EQ__NSE__NSE__MINUTE.csv','GAIL__EQ__NSE__NSE__MINUTE.csv','IOC__EQ__NSE__NSE__MINUTE.csv', 'ONGC__EQ__NSE__NSE__MINUTE.csv','RELIANCE__EQ__NSE__NSE__MINUTE.csv',\"NIFTY_50__EQ__INDICES__NSE__MINUTE.csv\"]"
   ]
  },
  {
   "cell_type": "code",
   "execution_count": null,
   "metadata": {},
   "outputs": [],
   "source": [
    "# Function to change the time-freq of the data into an hour-wise, day-wise, month-wise etc data \n",
    "def change_df(df, freq='1d'):\n",
    "    data = df.set_index(pd.DatetimeIndex(df['timestamp']))\n",
    "    data = data.resample(freq).agg(\n",
    "        OrderedDict([\n",
    "            ('open', 'first'),\n",
    "            ('high', 'max'),\n",
    "            ('low', 'min'),\n",
    "            ('close', 'last'),\n",
    "            ('volume', 'sum'),\n",
    "        ])\n",
    "    )\n",
    "    return data"
   ]
  },
  {
   "cell_type": "code",
   "execution_count": null,
   "metadata": {},
   "outputs": [],
   "source": [
    "#function that Plots the candlestick representation of data for passed frequency \n",
    "def plot_candlestick(df,freq='1d'):\n",
    "    new_data = change_df(df,freq)\n",
    "    fig = go.Figure(data=[go.Candlestick(x=new_data.index,\n",
    "                    open=new_data['open'],\n",
    "                    high=new_data['high'],\n",
    "                    low=new_data['low'],\n",
    "                    close=new_data['close'])])\n",
    "    fig.show()"
   ]
  },
  {
   "cell_type": "code",
   "execution_count": null,
   "metadata": {},
   "outputs": [],
   "source": [
    "# Plot candlesticks for a given dataframe,for a day, week, month, and quarter time-frequencies\n",
    "def plot_all_candlesticks(df):\n",
    "    time_periods=['1H','1D','1W','1M','1Q']\n",
    "    for i in range(len(time_periods)):\n",
    "        print(\"Time period: \",time_periods[i])\n",
    "        plot_candlestick(df,time_periods[i])"
   ]
  },
  {
   "cell_type": "code",
   "execution_count": null,
   "metadata": {},
   "outputs": [],
   "source": [
    "# Minutes candle sticks for less datasets\n",
    "def plot_all_candlesticks_minutes(df):\n",
    "    time_periods=['1T','5T','10T','15T','30T']\n",
    "    for i in range(len(time_periods)):\n",
    "        print(\"Time period: \",time_periods[i])\n",
    "        plot_candlestick(df.head(5000),time_periods[i])"
   ]
  },
  {
   "cell_type": "code",
   "execution_count": null,
   "metadata": {},
   "outputs": [],
   "source": [
    "# BPCL Candle sticks for minutes\n",
    "plot_all_candlesticks_minutes(pd.read_csv(datasets[0]))"
   ]
  },
  {
   "cell_type": "code",
   "execution_count": null,
   "metadata": {},
   "outputs": [],
   "source": [
    "# Gail Candle sticks for minutes \n",
    "plot_all_candlesticks_minutes(pd.read_csv(datasets[1]))"
   ]
  },
  {
   "cell_type": "code",
   "execution_count": null,
   "metadata": {},
   "outputs": [],
   "source": [
    "# IOC Candle sticks for minutes \n",
    "plot_all_candlesticks_minutes(pd.read_csv(datasets[2]))"
   ]
  },
  {
   "cell_type": "code",
   "execution_count": null,
   "metadata": {},
   "outputs": [],
   "source": [
    "# ONGC Candle sticks for minutes \n",
    "plot_all_candlesticks_minutes(pd.read_csv(datasets[3]))"
   ]
  },
  {
   "cell_type": "code",
   "execution_count": null,
   "metadata": {},
   "outputs": [],
   "source": [
    "# Reliance Candle sticks for minutes \n",
    "plot_all_candlesticks_minutes(pd.read_csv(datasets[4]))"
   ]
  },
  {
   "cell_type": "code",
   "execution_count": null,
   "metadata": {},
   "outputs": [],
   "source": [
    "# BPCL Candle sticks\n",
    "plot_all_candlesticks(pd.read_csv(datasets[0]))"
   ]
  },
  {
   "cell_type": "code",
   "execution_count": null,
   "metadata": {},
   "outputs": [],
   "source": [
    "# GAIL dataset \n",
    "plot_all_candlesticks(pd.read_csv(datasets[1]))"
   ]
  },
  {
   "cell_type": "code",
   "execution_count": null,
   "metadata": {},
   "outputs": [],
   "source": [
    "# IOC dataset\n",
    "plot_all_candlesticks(pd.read_csv(datasets[2]))"
   ]
  },
  {
   "cell_type": "code",
   "execution_count": null,
   "metadata": {},
   "outputs": [],
   "source": [
    "# ONGC dataset\n",
    "plot_all_candlesticks(pd.read_csv(datasets[3]))"
   ]
  },
  {
   "cell_type": "code",
   "execution_count": null,
   "metadata": {},
   "outputs": [],
   "source": [
    "# Reliance dataset\n",
    "plot_all_candlesticks(pd.read_csv(datasets[4]))"
   ]
  },
  {
   "cell_type": "code",
   "execution_count": null,
   "metadata": {},
   "outputs": [],
   "source": [
    "change_df(pd.read_csv(datasets[0]))['close'].rename(columns={'close':'BPCL'})"
   ]
  },
  {
   "cell_type": "code",
   "execution_count": null,
   "metadata": {},
   "outputs": [],
   "source": [
    "#concatinate all closing prices into a single dataframe \n",
    "concat_df = pd.concat([change_df(pd.read_csv(datasets[0]))['close'], change_df(pd.read_csv(datasets[1]))['close'], change_df(pd.read_csv(datasets[2]))['close'], change_df(pd.read_csv(datasets[3]))['close'],change_df(pd.read_csv(datasets[4]))['close']], axis=1)"
   ]
  },
  {
   "cell_type": "code",
   "execution_count": null,
   "metadata": {},
   "outputs": [],
   "source": [
    "#List of Gas and oil IBPCL , Gail, IOC, ONGC, Reliance\n",
    "concat_df.columns = ['BPCL','Gail','IOC','ONGC','Reliance']"
   ]
  },
  {
   "cell_type": "code",
   "execution_count": null,
   "metadata": {},
   "outputs": [],
   "source": [
    "concat_df.head()"
   ]
  },
  {
   "cell_type": "code",
   "execution_count": null,
   "metadata": {},
   "outputs": [],
   "source": [
    "#plotting all closing prices in same graph to compare trend \n",
    "concat_df.plot(figsize=(10,10))"
   ]
  },
  {
   "cell_type": "code",
   "execution_count": null,
   "metadata": {},
   "outputs": [],
   "source": [
    "for i, col in enumerate(concat_df.columns):\n",
    "    plt.figure()\n",
    "    concat_df[col].plot()\n",
    "    plt.title('Closing Prices')\n",
    "    plt.xticks(rotation=70)\n",
    "    plt.legend(col)"
   ]
  },
  {
   "cell_type": "code",
   "execution_count": null,
   "metadata": {},
   "outputs": [],
   "source": [
    "# volume data for 5 different Gas and Oil company\n",
    "concat_volume = pd.concat([change_df(pd.read_csv(datasets[0]))['volume'], change_df(pd.read_csv(datasets[1]))['volume'], change_df(pd.read_csv(datasets[2]))['volume'], change_df(pd.read_csv(datasets[3]))['volume'],change_df(pd.read_csv(datasets[4]))['volume']], axis=1)"
   ]
  },
  {
   "cell_type": "code",
   "execution_count": null,
   "metadata": {},
   "outputs": [],
   "source": [
    "#List of Gas and oil IBPCL , Gail, IOC, ONGC, Reliance\n",
    "concat_volume.columns = ['BPCL','Gail','IOC','ONGC','Reliance']"
   ]
  },
  {
   "cell_type": "code",
   "execution_count": null,
   "metadata": {},
   "outputs": [],
   "source": [
    "concat_volume.dropna(inplace=True)\n",
    "concat_volume.head()"
   ]
  },
  {
   "cell_type": "code",
   "execution_count": null,
   "metadata": {},
   "outputs": [],
   "source": [
    "concat_df.plot(figsize=(10,10))"
   ]
  },
  {
   "cell_type": "code",
   "execution_count": null,
   "metadata": {},
   "outputs": [],
   "source": [
    "concat_df.dropna(inplace=True)\n",
    "concat_df.head()"
   ]
  },
  {
   "cell_type": "code",
   "execution_count": null,
   "metadata": {},
   "outputs": [],
   "source": [
    "concat_df[concat_df.BPCL == concat_df.BPCL.max()]"
   ]
  },
  {
   "cell_type": "code",
   "execution_count": null,
   "metadata": {},
   "outputs": [],
   "source": [
    "concat_df[concat_df.BPCL == concat_df.BPCL.min()]"
   ]
  },
  {
   "cell_type": "code",
   "execution_count": null,
   "metadata": {},
   "outputs": [],
   "source": [
    "#reading nifty50 data \n",
    "nifty_50 =pd.read_csv(\"NIFTY_50__EQ__INDICES__NSE__MINUTE.csv\" ,parse_dates =[\"timestamp\"], index_col =\"timestamp\")"
   ]
  },
  {
   "cell_type": "code",
   "execution_count": null,
   "metadata": {},
   "outputs": [],
   "source": [
    "nifty_50.head()"
   ]
  },
  {
   "cell_type": "code",
   "execution_count": null,
   "metadata": {},
   "outputs": [],
   "source": [
    "#checking for null values \n",
    "nifty_50.isnull().sum()"
   ]
  },
  {
   "cell_type": "code",
   "execution_count": null,
   "metadata": {},
   "outputs": [],
   "source": [
    "#dropping null values \n",
    "nifty_50.dropna(inplace=True)"
   ]
  },
  {
   "cell_type": "code",
   "execution_count": null,
   "metadata": {},
   "outputs": [],
   "source": [
    "nifty_50.isnull().sum()"
   ]
  },
  {
   "cell_type": "code",
   "execution_count": null,
   "metadata": {},
   "outputs": [],
   "source": [
    "nifty_50.describe()"
   ]
  },
  {
   "cell_type": "code",
   "execution_count": null,
   "metadata": {},
   "outputs": [],
   "source": [
    "nifty_50.max()"
   ]
  },
  {
   "cell_type": "markdown",
   "metadata": {},
   "source": [
    "The NIFTY 50 is a benchmark Indian stock market index that represents the weighted average of 50 of the largest Indian companies listed on the National Stock Exchange. It is one of the two main stock indices used in India"
   ]
  },
  {
   "cell_type": "code",
   "execution_count": null,
   "metadata": {},
   "outputs": [],
   "source": [
    "#concating nifty50 closing prices to dataframe \n",
    "concat_df_nifty_50 = pd.concat([change_df(pd.read_csv(datasets[0]))['close'], change_df(pd.read_csv(datasets[1]))['close'], change_df(pd.read_csv(datasets[2]))['close'], change_df(pd.read_csv(datasets[3]))['close'],change_df(pd.read_csv(datasets[4]))['close'],change_df(pd.read_csv(datasets[5]))['close']], axis=1)"
   ]
  },
  {
   "cell_type": "code",
   "execution_count": null,
   "metadata": {},
   "outputs": [],
   "source": [
    "concat_df_nifty_50.head()\n",
    "#List of Gas nad oil IBPCL , Gail, IOC, ONGC, Reliance\n",
    "concat_df_nifty_50.columns = ['BPCL','Gail','IOC','ONGC','Reliance','Nifty_50']"
   ]
  },
  {
   "cell_type": "code",
   "execution_count": null,
   "metadata": {},
   "outputs": [],
   "source": [
    "#we compare the variation of nifty 50 closing price trend with that of other companies in the considered sector\n",
    "concat_df_nifty_50.plot(figsize=(10,10))"
   ]
  },
  {
   "cell_type": "code",
   "execution_count": null,
   "metadata": {},
   "outputs": [],
   "source": [
    "combo = pd.DataFrame()"
   ]
  },
  {
   "cell_type": "code",
   "execution_count": null,
   "metadata": {},
   "outputs": [],
   "source": [
    "combo['nift50'] = concat_df_nifty_50.Nifty_50\n",
    "combo['BPCL'] = concat_df_nifty_50.BPCL\n",
    "combo['Gail'] = concat_df_nifty_50.Gail\n",
    "combo['IOC'] = concat_df_nifty_50.IOC\n",
    "combo['ONGC'] = concat_df_nifty_50.ONGC\n",
    "combo['Reliance'] = concat_df_nifty_50.Reliance\n"
   ]
  },
  {
   "cell_type": "code",
   "execution_count": null,
   "metadata": {},
   "outputs": [],
   "source": [
    "combo.dropna(inplace=True)"
   ]
  },
  {
   "cell_type": "code",
   "execution_count": null,
   "metadata": {},
   "outputs": [],
   "source": [
    "import seaborn as sns"
   ]
  },
  {
   "cell_type": "code",
   "execution_count": null,
   "metadata": {},
   "outputs": [],
   "source": [
    "#A Distplot or distribution plot, depicts the variation in the data distribution\n",
    "sns.distplot(combo['nift50'], kde_kws={'label':'nift50'});\n",
    "sns.distplot(combo['BPCL'], kde_kws={'label':'BPCL'});\n",
    "sns.distplot(combo['Gail'], kde_kws={'label':'Gail'});\n",
    "sns.distplot(combo['IOC'], kde_kws={'label':'IOC'});\n",
    "sns.distplot(combo['ONGC'], kde_kws={'label':'ONGC'});\n",
    "sns.distplot(combo['Reliance'], kde_kws={'label':'Reliance'});\n"
   ]
  },
  {
   "cell_type": "code",
   "execution_count": null,
   "metadata": {},
   "outputs": [],
   "source": [
    "#plotting pairplot to show pairwise distibution of stock prices under consideration\n",
    "sns.pairplot(combo)"
   ]
  },
  {
   "cell_type": "code",
   "execution_count": null,
   "metadata": {},
   "outputs": [],
   "source": [
    "#correlation is plotted and heatmap to visualise this \n",
    "combo.corr()"
   ]
  },
  {
   "cell_type": "code",
   "execution_count": null,
   "metadata": {},
   "outputs": [],
   "source": [
    "sns.heatmap(combo.corr(),annot=True)"
   ]
  },
  {
   "cell_type": "code",
   "execution_count": null,
   "metadata": {},
   "outputs": [],
   "source": [
    "sns.clustermap(combo.corr(),annot=True)"
   ]
  },
  {
   "cell_type": "code",
   "execution_count": null,
   "metadata": {},
   "outputs": [],
   "source": []
  }
 ],
 "metadata": {
  "kernelspec": {
   "display_name": "Python 3",
   "language": "python",
   "name": "python3"
  },
  "language_info": {
   "codemirror_mode": {
    "name": "ipython",
    "version": 3
   },
   "file_extension": ".py",
   "mimetype": "text/x-python",
   "name": "python",
   "nbconvert_exporter": "python",
   "pygments_lexer": "ipython3",
   "version": "3.6.5"
  }
 },
 "nbformat": 4,
 "nbformat_minor": 2
}
