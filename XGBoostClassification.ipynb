{
 "cells": [
  {
   "cell_type": "code",
   "execution_count": 1,
   "metadata": {},
   "outputs": [
    {
     "name": "stderr",
     "output_type": "stream",
     "text": [
      "/Library/Frameworks/Python.framework/Versions/3.10/lib/python3.10/site-packages/xgboost/compat.py:36: FutureWarning: pandas.Int64Index is deprecated and will be removed from pandas in a future version. Use pandas.Index with the appropriate dtype instead.\n",
      "  from pandas import MultiIndex, Int64Index\n"
     ]
    },
    {
     "data": {
      "text/html": [
       "        <script type=\"text/javascript\">\n",
       "        window.PlotlyConfig = {MathJaxConfig: 'local'};\n",
       "        if (window.MathJax) {MathJax.Hub.Config({SVG: {font: \"STIX-Web\"}});}\n",
       "        if (typeof require !== 'undefined') {\n",
       "        require.undef(\"plotly\");\n",
       "        requirejs.config({\n",
       "            paths: {\n",
       "                'plotly': ['https://cdn.plot.ly/plotly-2.8.3.min']\n",
       "            }\n",
       "        });\n",
       "        require(['plotly'], function(Plotly) {\n",
       "            window._Plotly = Plotly;\n",
       "        });\n",
       "        }\n",
       "        </script>\n",
       "        "
      ]
     },
     "metadata": {},
     "output_type": "display_data"
    }
   ],
   "source": [
    "import os\n",
    "import numpy as np\n",
    "import pandas as pd\n",
    "import xgboost as xgb\n",
    "import matplotlib.pyplot as plt\n",
    "from xgboost import plot_importance, plot_tree\n",
    "from sklearn.metrics import mean_squared_error\n",
    "from sklearn.preprocessing import MinMaxScaler\n",
    "from sklearn.model_selection import train_test_split, GridSearchCV\n",
    "\n",
    "# Chart drawing\n",
    "import plotly as py\n",
    "import plotly.io as pio\n",
    "import plotly.graph_objects as go\n",
    "from plotly.subplots import make_subplots\n",
    "from plotly.offline import download_plotlyjs, init_notebook_mode, plot, iplot\n",
    "\n",
    "# Mute sklearn warnings\n",
    "from warnings import simplefilter\n",
    "simplefilter(action='ignore', category=FutureWarning)\n",
    "simplefilter(action='ignore', category=DeprecationWarning)\n",
    "\n",
    "# Show charts when running kernel\n",
    "init_notebook_mode(connected=True)\n",
    "\n",
    "# Change default background color for all visualizations\n",
    "layout=go.Layout(paper_bgcolor='rgba(0,0,0,0)', plot_bgcolor='rgba(250,250,250,0.8)')\n",
    "fig = go.Figure(layout=layout)\n",
    "templated_fig = pio.to_templated(fig)\n",
    "pio.templates['my_template'] = templated_fig.layout.template\n",
    "pio.templates.default = 'my_template'"
   ]
  },
  {
   "cell_type": "code",
   "execution_count": null,
   "metadata": {},
   "outputs": [],
   "source": [
    "#reading sample dataset \n",
    "df = pd.read_csv('NSEI.csv')\n",
    "\n",
    "# df['Date'] = pd.to_datetime(df['Date'])\n",
    "# df = df[(df['Date'].dt.year >= 2010)].copy()\n",
    "# df.index = range(len(df))\n",
    "\n",
    "df.head()\n",
    "\n"
   ]
  },
  {
   "cell_type": "code",
   "execution_count": null,
   "metadata": {},
   "outputs": [],
   "source": [
    "#setting date as the index for dataframe\n",
    "\n",
    "df = df.set_index(pd.DatetimeIndex(df['Date']))\n",
    "# from collections import OrderedDict\n",
    "# data = Data.resample('1d').agg(\n",
    "#     OrderedDict([\n",
    "#         ('open', 'first'),\n",
    "#         ('high', 'max'),\n",
    "#         ('low', 'min'),\n",
    "#         ('close', 'last'),\n",
    "#         ('volume', 'sum'),\n",
    "#     ])\n",
    "# )\n",
    "# data.dropna(inplace=True)\n",
    "# data['Date'] = data.index"
   ]
  },
  {
   "cell_type": "code",
   "execution_count": null,
   "metadata": {},
   "outputs": [],
   "source": [
    "# df = data"
   ]
  },
  {
   "cell_type": "code",
   "execution_count": null,
   "metadata": {},
   "outputs": [],
   "source": [
    "#calculating price shift attribute \n",
    "df['price_shift'] = df['close'].shift(periods=1)"
   ]
  },
  {
   "cell_type": "code",
   "execution_count": null,
   "metadata": {},
   "outputs": [],
   "source": [
    "#setting timestamp column to index of dataframe \n",
    "df['timestamp'] = df.index"
   ]
  },
  {
   "cell_type": "code",
   "execution_count": null,
   "metadata": {},
   "outputs": [],
   "source": [
    "#getting day name from timestamp and assigning to dayofweek attribute\n",
    "df['dayoftheWeek'] = df.timestamp.dt.day_name()"
   ]
  },
  {
   "cell_type": "code",
   "execution_count": null,
   "metadata": {},
   "outputs": [],
   "source": [
    "df.head()"
   ]
  },
  {
   "cell_type": "code",
   "execution_count": null,
   "metadata": {},
   "outputs": [],
   "source": [
    "#assigning target column to values true and false depending on close price being greater than or less corresponding than price shift values respectively\n",
    "df['target']=(df.close.gt(df.price_shift)).astype(int)"
   ]
  },
  {
   "cell_type": "code",
   "execution_count": null,
   "metadata": {},
   "outputs": [],
   "source": [
    "#removing first row to remove price shift nan value \n",
    "df = df[1:]"
   ]
  },
  {
   "cell_type": "code",
   "execution_count": null,
   "metadata": {},
   "outputs": [],
   "source": [
    "df.head()"
   ]
  },
  {
   "cell_type": "code",
   "execution_count": null,
   "metadata": {},
   "outputs": [],
   "source": [
    "#group the dataframe by day of week and assign to grouped_by_user_df and calculate listed aggregate values by dayofweek and assing to user_answers_df\n",
    "grouped_by_user_df = df.groupby('dayoftheWeek')\n",
    "user_answers_df = grouped_by_user_df.agg({'target': ['mean', 'count', 'std', 'median', 'skew']}).copy()"
   ]
  },
  {
   "cell_type": "code",
   "execution_count": null,
   "metadata": {},
   "outputs": [],
   "source": [
    "#merge user_answers_df with df using dayofweek\n",
    "\n",
    "df = df.merge(user_answers_df, how='left', on='dayoftheWeek')"
   ]
  },
  {
   "cell_type": "code",
   "execution_count": null,
   "metadata": {},
   "outputs": [],
   "source": [
    "#displaying df for weekdays\n",
    "df[(df.dayoftheWeek != 'Saturday') | (df.dayoftheWeek != 'Sunday')]"
   ]
  },
  {
   "cell_type": "code",
   "execution_count": null,
   "metadata": {},
   "outputs": [],
   "source": [
    "#plotting open-high-low-close for dataframe and plotting scatter plot for volume\n",
    "fig = make_subplots(rows=2, cols=1)\n",
    "\n",
    "fig.add_trace(go.Ohlc(x=df.Date,\n",
    "                      open=df.open,\n",
    "                      high=df.high,\n",
    "                      low=df.low,\n",
    "                      close=df.close,\n",
    "                      name='Price'), row=1, col=1)\n",
    "\n",
    "fig.add_trace(go.Scatter(x=df.Date, y=df.volume, name='Volume'), row=2, col=1)\n",
    "\n",
    "fig.update(layout_xaxis_rangeslider_visible=False)\n",
    "fig.show()"
   ]
  },
  {
   "cell_type": "code",
   "execution_count": null,
   "metadata": {},
   "outputs": [],
   "source": [
    "#calculating exponential moving average and simple moving average and plotting them for comparison\n",
    "#MA\n",
    "df['EMA_9'] = df['close'].ewm(9).mean().shift()\n",
    "df['SMA_5'] = df['close'].rolling(5).mean().shift()\n",
    "df['SMA_10'] = df['close'].rolling(10).mean().shift()\n",
    "df['SMA_15'] = df['close'].rolling(15).mean().shift()\n",
    "df['SMA_30'] = df['close'].rolling(30).mean().shift()\n",
    "\n",
    "fig = go.Figure()\n",
    "fig.add_trace(go.Scatter(x=df.Date, y=df.EMA_9, name='EMA 9'))\n",
    "fig.add_trace(go.Scatter(x=df.Date, y=df.SMA_5, name='SMA 5'))\n",
    "fig.add_trace(go.Scatter(x=df.Date, y=df.SMA_10, name='SMA 10'))\n",
    "fig.add_trace(go.Scatter(x=df.Date, y=df.SMA_15, name='SMA 15'))\n",
    "fig.add_trace(go.Scatter(x=df.Date, y=df.SMA_30, name='SMA 30'))\n",
    "fig.add_trace(go.Scatter(x=df.Date, y=df.close, name='Close', opacity=0.2))\n",
    "fig.show()"
   ]
  },
  {
   "cell_type": "code",
   "execution_count": null,
   "metadata": {},
   "outputs": [],
   "source": [
    "\n",
    "# Relative Strength Index\n",
    "\n",
    "# RSI indicator to predict whether a stock is overbought/oversold.\n",
    "def relative_strength_idx(df, n=14):\n",
    "    close = df['close']\n",
    "    delta = close.diff() #calculating consecutive differences of values of closing price to get delta\n",
    "    delta = delta[1:] #ignoring row 1 as the value is nan\n",
    "    pricesUp = delta.copy() \n",
    "    pricesDown = delta.copy()\n",
    "    pricesUp[pricesUp < 0] = 0 #marking rise in price with comparison to previous value\n",
    "    pricesDown[pricesDown > 0] = 0 #marking fall in price with comparison to previous value\n",
    "    rollUp = pricesUp.rolling(n).mean() #calculating rolling avg of priceup as rollup\n",
    "    rollDown = pricesDown.abs().rolling(n).mean() #calculating rolling avg of pricedown as rolldown\n",
    "    rs = rollUp / rollDown #calculating relative strength \n",
    "    rsi = 100.0 - (100.0 / (1.0 + rs)) #calculating relative strength index\n",
    "    return rsi\n",
    "\n",
    "df['RSI'] = relative_strength_idx(df).fillna(0) #filling nan values with 0\n",
    "\n",
    "#plotting scatterplot for relative strength index\n",
    "fig = go.Figure(go.Scatter(x=df.Date, y=df.RSI, name='RSI'))\n",
    "fig.show()"
   ]
  },
  {
   "cell_type": "code",
   "execution_count": null,
   "metadata": {},
   "outputs": [],
   "source": [
    "#MACD - moving average convergence diverge - shows relationship between 2 moving averages\n",
    "EMA_12 = pd.Series(df['close'].ewm(span=12, min_periods=12).mean())\n",
    "EMA_26 = pd.Series(df['close'].ewm(span=26, min_periods=26).mean())\n",
    "df['MACD'] = pd.Series(EMA_12 - EMA_26)\n",
    "df['MACD_signal'] = pd.Series(df.MACD.ewm(span=9, min_periods=9).mean())\n",
    "\n",
    "fig = make_subplots(rows=2, cols=1)\n",
    "fig.add_trace(go.Scatter(x=df.Date, y=df.close, name='close'), row=1, col=1)\n",
    "fig.add_trace(go.Scatter(x=df.Date, y=EMA_12, name='EMA 12'), row=1, col=1)\n",
    "fig.add_trace(go.Scatter(x=df.Date, y=EMA_26, name='EMA 26'), row=1, col=1)\n",
    "fig.add_trace(go.Scatter(x=df.Date, y=df['MACD'], name='MACD'), row=2, col=1)\n",
    "fig.add_trace(go.Scatter(x=df.Date, y=df['MACD_signal'], name='Signal line'), row=2, col=1)\n",
    "fig.show()"
   ]
  },
  {
   "cell_type": "code",
   "execution_count": null,
   "metadata": {},
   "outputs": [],
   "source": [
    "#Shift label column\n",
    "\n",
    "# Because to predict the next day price, after calculating all features for day Di\n",
    "# , shift Close price column by -1 rows. After doing that, for day Di we have features from the same timestamp e.g. RSIi, but the price Ci+1 from upcoming day.\n",
    "df['Close'] = df['close'].shift(-1)"
   ]
  },
  {
   "cell_type": "code",
   "execution_count": null,
   "metadata": {},
   "outputs": [],
   "source": [
    "#Drop invalid samples\n",
    "\n",
    "# Because of calculating moving averages and shifting label column, few rows will have invalid values i.e. we haven't calculated SMA10\n",
    "# for the first 10 days. Moreover, after shifting Close price column, last row price is equal to 0 which is not true. Removing these samples should help.\n",
    "\n",
    "df = df.iloc[33:] # Because of moving averages and MACD line\n",
    "df = df[:-1]      # Because of shifting close price\n",
    "\n",
    "df.index = range(len(df))"
   ]
  },
  {
   "cell_type": "code",
   "execution_count": null,
   "metadata": {},
   "outputs": [],
   "source": [
    "df.head()"
   ]
  },
  {
   "cell_type": "code",
   "execution_count": null,
   "metadata": {},
   "outputs": [],
   "source": [
    "#calculating price shift\n",
    "df['price_shift'] = df['close'].shift(periods=1)"
   ]
  },
  {
   "cell_type": "code",
   "execution_count": null,
   "metadata": {},
   "outputs": [],
   "source": [
    "df.head()"
   ]
  },
  {
   "cell_type": "code",
   "execution_count": null,
   "metadata": {},
   "outputs": [],
   "source": [
    "ls = [\"EMA_9\",\"SMA_5\",\"SMA_10\",\"SMA_15\",\"SMA_30\",\"RSI\",\"MACD\",\"MACD_signal\"]"
   ]
  },
  {
   "cell_type": "code",
   "execution_count": null,
   "metadata": {},
   "outputs": [],
   "source": [
    "#shifting all above listed column rows by 1 \n",
    "for i in ls:\n",
    "    for j in range(1,30):\n",
    "        df[i+\"_\"+str(j)] = df[i].shift(periods=1)"
   ]
  },
  {
   "cell_type": "code",
   "execution_count": null,
   "metadata": {},
   "outputs": [],
   "source": [
    "df = df[30:]"
   ]
  },
  {
   "cell_type": "code",
   "execution_count": null,
   "metadata": {},
   "outputs": [],
   "source": [
    "df.head()"
   ]
  },
  {
   "cell_type": "code",
   "execution_count": null,
   "metadata": {},
   "outputs": [],
   "source": [
    "df.columns.tolist()"
   ]
  },
  {
   "cell_type": "code",
   "execution_count": null,
   "metadata": {},
   "outputs": [],
   "source": [
    "#spliting to train and test and validate\n",
    "test_size  = 0.15\n",
    "valid_size = 0.15\n",
    "\n",
    "test_split_idx  = int(df.shape[0] * (1-test_size))\n",
    "valid_split_idx = int(df.shape[0] * (1-(valid_size+test_size)))\n",
    "\n",
    "train_df  = df.loc[:valid_split_idx].copy()\n",
    "valid_df  = df.loc[valid_split_idx+1:test_split_idx].copy()\n",
    "test_df   = df.loc[test_split_idx+1:].copy()\n",
    "\n",
    "fig = go.Figure()\n",
    "fig.add_trace(go.Scatter(x=train_df.Date, y=train_df.Close, name='Training'))\n",
    "fig.add_trace(go.Scatter(x=valid_df.Date, y=valid_df.Close, name='Validation'))\n",
    "fig.add_trace(go.Scatter(x=test_df.Date,  y=test_df.Close,  name='Test'))\n",
    "fig.show()"
   ]
  },
  {
   "cell_type": "code",
   "execution_count": null,
   "metadata": {},
   "outputs": [],
   "source": [
    "#dropping below listed columns from train test and validate columns\n",
    "drop_cols = ['close','open','high','volume','Close','low','price_shift','Date']\n",
    "\n",
    "train_df = train_df.drop(drop_cols, 1)\n",
    "valid_df = valid_df.drop(drop_cols, 1)\n",
    "test_df  = test_df.drop(drop_cols, 1)\n",
    "\n"
   ]
  },
  {
   "cell_type": "code",
   "execution_count": null,
   "metadata": {},
   "outputs": [],
   "source": [
    "train_df.head()"
   ]
  },
  {
   "cell_type": "code",
   "execution_count": null,
   "metadata": {},
   "outputs": [],
   "source": [
    "#getting x_train y_train x_test y_test x_valid y_valid\n",
    "y_train = train_df['target'].copy()\n",
    "X_train = train_df.drop(['target'], 1)\n",
    "\n",
    "y_valid = valid_df['target'].copy()\n",
    "X_valid = valid_df.drop(['target'], 1)\n",
    "\n",
    "y_test  = test_df['target'].copy()\n",
    "X_test  = test_df.drop(['target'], 1)\n",
    "\n",
    "X_train.info()"
   ]
  },
  {
   "cell_type": "code",
   "execution_count": null,
   "metadata": {},
   "outputs": [],
   "source": [
    "#fine tunning\n",
    "\n",
    "parameters = {\n",
    "    'n_estimators': [100, 200, 300, 400],\n",
    "    'learning_rate': [0.001, 0.005, 0.01, 0.05],\n",
    "    'max_depth': [8, 10, 12, 15],\n",
    "    'gamma': [0.001, 0.005, 0.01, 0.02],\n",
    "    'random_state': [42]\n",
    "}\n",
    "#defining model\n",
    "eval_set = [(X_train, y_train), (X_valid, y_valid)]\n",
    "model = xgb.XGBClassifier(eval_set=eval_set, objective='binary:logistic', verbose=False)\n",
    "\n",
    "#finding best parameters using grid search\n",
    "clf = GridSearchCV(model, parameters)\n",
    "#fitting model with train test data\n",
    "clf.fit(X_train, y_train)\n",
    "\n",
    "print(f'Best params: {clf.best_params_}')\n",
    "print(f'Best validation score = {clf.best_score_}')"
   ]
  },
  {
   "cell_type": "code",
   "execution_count": null,
   "metadata": {},
   "outputs": [],
   "source": [
    "#defining model with best parameters using grid search \n",
    "model = xgb.XGBClassifier(**clf.best_params_, objective='binary:logistic')\n",
    "model.fit(X_train, y_train, eval_set=eval_set, verbose=False)"
   ]
  },
  {
   "cell_type": "code",
   "execution_count": null,
   "metadata": {},
   "outputs": [],
   "source": [
    "\n",
    "\n",
    "plot_importance(model);\n",
    "\n"
   ]
  },
  {
   "cell_type": "code",
   "execution_count": null,
   "metadata": {},
   "outputs": [],
   "source": [
    "\n",
    "#predecting values for x_test\n",
    "y_pred = model.predict(X_test)\n",
    "print(f'y_true = {np.array(y_test)[:5]}')\n",
    "print(f'y_pred = {y_pred[:5]}')\n",
    "\n"
   ]
  },
  {
   "cell_type": "code",
   "execution_count": null,
   "metadata": {},
   "outputs": [],
   "source": [
    "\n",
    "from sklearn.metrics import accuracy_score\n",
    "from sklearn.ensemble import AdaBoostClassifier\n"
   ]
  },
  {
   "cell_type": "code",
   "execution_count": null,
   "metadata": {},
   "outputs": [],
   "source": [
    "\n",
    "\n",
    "# Find accuracy using the test set\n",
    "y_pred = model.predict(X_test)\n",
    "print('Accuracy: {}'.format(accuracy_score(y_pred, y_test)))\n",
    "\n"
   ]
  },
  {
   "cell_type": "code",
   "execution_count": null,
   "metadata": {},
   "outputs": [],
   "source": [
    "from sklearn.metrics import classification_report\n",
    "print(classification_report(y_test, y_pred, labels=[0, 1]))"
   ]
  },
  {
   "cell_type": "code",
   "execution_count": null,
   "metadata": {},
   "outputs": [],
   "source": [
    "\n",
    "# Create a classifier and fit the data\n",
    "clf = AdaBoostClassifier(random_state=1)\n",
    "clf.fit(X_train, y_train)\n",
    "\n"
   ]
  },
  {
   "cell_type": "code",
   "execution_count": null,
   "metadata": {},
   "outputs": [],
   "source": [
    "\n",
    "\n",
    "# Find accuracy using the test set\n",
    "y_pred = clf.predict(X_test)\n",
    "print('Accuracy: {}'.format(accuracy_score(y_pred, y_test)))\n",
    "\n"
   ]
  },
  {
   "cell_type": "code",
   "execution_count": null,
   "metadata": {},
   "outputs": [],
   "source": [
    "#printing classification report\n",
    "from sklearn.metrics import classification_report\n",
    "print(classification_report(y_test, y_pred, labels=[0, 1]))"
   ]
  },
  {
   "cell_type": "code",
   "execution_count": null,
   "metadata": {},
   "outputs": [],
   "source": [
    "print(f'mean_squared_error = {mean_squared_error(y_test, y_pred)}')"
   ]
  }
 ],
 "metadata": {
  "kernelspec": {
   "display_name": "Python 3",
   "language": "python",
   "name": "python3"
  },
  "language_info": {
   "codemirror_mode": {
    "name": "ipython",
    "version": 3
   },
   "file_extension": ".py",
   "mimetype": "text/x-python",
   "name": "python",
   "nbconvert_exporter": "python",
   "pygments_lexer": "ipython3",
   "version": "3.10.2"
  }
 },
 "nbformat": 4,
 "nbformat_minor": 4
}
